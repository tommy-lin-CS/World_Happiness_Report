{
 "cells": [
  {
   "cell_type": "markdown",
   "id": "1bb0ace4",
   "metadata": {},
   "source": [
    "# CSE 351 Spring 2023 Data Science Project\n",
    "## What Makes People in a Country Happy?\n",
    "### By Felix Zhu, Kevin Chen, Tommy Lin"
   ]
  },
  {
   "cell_type": "markdown",
   "id": "49a01bd8",
   "metadata": {},
   "source": [
    "## Cleaning and Merging Data"
   ]
  },
  {
   "cell_type": "code",
   "execution_count": 6,
   "id": "832fbabf",
   "metadata": {},
   "outputs": [
    {
     "name": "stdout",
     "output_type": "stream",
     "text": [
      "Hello World\n"
     ]
    }
   ],
   "source": [
    "print(\"Hello World\")"
   ]
  },
  {
   "cell_type": "code",
   "execution_count": null,
   "id": "82ba70d8",
   "metadata": {},
   "outputs": [],
   "source": []
  }
 ],
 "metadata": {
  "kernelspec": {
   "display_name": "Python 3 (ipykernel)",
   "language": "python",
   "name": "python3"
  },
  "language_info": {
   "codemirror_mode": {
    "name": "ipython",
    "version": 3
   },
   "file_extension": ".py",
   "mimetype": "text/x-python",
   "name": "python",
   "nbconvert_exporter": "python",
   "pygments_lexer": "ipython3",
   "version": "3.9.13"
  }
 },
 "nbformat": 4,
 "nbformat_minor": 5
}
